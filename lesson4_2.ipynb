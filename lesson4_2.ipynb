{
 "cells": [
  {
   "cell_type": "code",
   "execution_count": 5,
   "metadata": {},
   "outputs": [],
   "source": [
    "file = open(file='student.csv',encoding='utf-8')\n",
    "file.close()"
   ]
  },
  {
   "cell_type": "code",
   "execution_count": 9,
   "metadata": {},
   "outputs": [
    {
     "name": "stdout",
     "output_type": "stream",
     "text": [
      "name,chinese,english,math,history,health\n",
      "student1,87,89,89,80,74\n",
      "student2,54,95,55,67,74\n",
      "student3,64,72,98,84,72\n",
      "student4,90,79,96,77,62\n",
      "student5,55,97,59,58,53\n",
      "student6,65,63,90,98,53\n",
      "student7,71,77,57,85,66\n",
      "student8,92,68,52,75,77\n",
      "student9,85,63,90,60,71\n",
      "student10,83,93,67,65,55\n",
      "student11,84,58,56,90,78\n",
      "student12,81,79,95,89,98\n",
      "student13,64,93,92,82,73\n",
      "student14,70,54,76,76,67\n",
      "student15,95,99,78,57,59\n",
      "student16,67,60,77,83,70\n",
      "student17,68,72,74,97,56\n",
      "student18,66,70,86,54,63\n",
      "student19,77,75,70,93,94\n",
      "student20,63,82,89,77,85\n",
      "student21,53,59,68,88,79\n",
      "student22,81,78,97,79,61\n",
      "student23,99,89,74,69,94\n",
      "student24,93,72,61,76,97\n",
      "student25,74,98,65,97,66\n",
      "student26,78,66,86,88,98\n",
      "student27,84,89,91,87,88\n",
      "student28,73,69,73,58,51\n",
      "student29,92,73,54,62,98\n",
      "student30,87,58,70,85,69\n",
      "student31,59,89,53,96,53\n",
      "student32,57,86,56,89,53\n",
      "student33,88,80,63,98,85\n",
      "student34,85,100,84,66,76\n",
      "student35,92,80,55,98,52\n",
      "student36,95,98,52,68,92\n",
      "student37,55,50,58,57,58\n",
      "student38,80,100,56,64,94\n",
      "student39,76,65,69,94,57\n",
      "student40,72,73,82,62,91\n",
      "student41,51,83,70,67,51\n",
      "student42,57,96,55,71,84\n",
      "student43,85,84,81,58,59\n",
      "student44,51,83,72,63,75\n",
      "student45,60,82,95,83,67\n",
      "student46,73,66,82,52,57\n",
      "student47,63,85,70,61,92\n",
      "student48,67,83,87,70,82\n",
      "student49,86,78,83,67,60\n",
      "student50,73,81,63,50,57\n",
      "\n"
     ]
    }
   ],
   "source": [
    "with open(file='students.csv',encoding='utf-8') as file:\n",
    "    content:str = file.read()\n",
    "\n",
    "print(content)"
   ]
  },
  {
   "cell_type": "code",
   "execution_count": 10,
   "metadata": {},
   "outputs": [
    {
     "name": "stdout",
     "output_type": "stream",
     "text": [
      "['name,chinese,english,math,history,health\\n', 'student1,87,89,89,80,74\\n', 'student2,54,95,55,67,74\\n', 'student3,64,72,98,84,72\\n', 'student4,90,79,96,77,62\\n', 'student5,55,97,59,58,53\\n', 'student6,65,63,90,98,53\\n', 'student7,71,77,57,85,66\\n', 'student8,92,68,52,75,77\\n', 'student9,85,63,90,60,71\\n', 'student10,83,93,67,65,55\\n', 'student11,84,58,56,90,78\\n', 'student12,81,79,95,89,98\\n', 'student13,64,93,92,82,73\\n', 'student14,70,54,76,76,67\\n', 'student15,95,99,78,57,59\\n', 'student16,67,60,77,83,70\\n', 'student17,68,72,74,97,56\\n', 'student18,66,70,86,54,63\\n', 'student19,77,75,70,93,94\\n', 'student20,63,82,89,77,85\\n', 'student21,53,59,68,88,79\\n', 'student22,81,78,97,79,61\\n', 'student23,99,89,74,69,94\\n', 'student24,93,72,61,76,97\\n', 'student25,74,98,65,97,66\\n', 'student26,78,66,86,88,98\\n', 'student27,84,89,91,87,88\\n', 'student28,73,69,73,58,51\\n', 'student29,92,73,54,62,98\\n', 'student30,87,58,70,85,69\\n', 'student31,59,89,53,96,53\\n', 'student32,57,86,56,89,53\\n', 'student33,88,80,63,98,85\\n', 'student34,85,100,84,66,76\\n', 'student35,92,80,55,98,52\\n', 'student36,95,98,52,68,92\\n', 'student37,55,50,58,57,58\\n', 'student38,80,100,56,64,94\\n', 'student39,76,65,69,94,57\\n', 'student40,72,73,82,62,91\\n', 'student41,51,83,70,67,51\\n', 'student42,57,96,55,71,84\\n', 'student43,85,84,81,58,59\\n', 'student44,51,83,72,63,75\\n', 'student45,60,82,95,83,67\\n', 'student46,73,66,82,52,57\\n', 'student47,63,85,70,61,92\\n', 'student48,67,83,87,70,82\\n', 'student49,86,78,83,67,60\\n', 'student50,73,81,63,50,57\\n']\n"
     ]
    }
   ],
   "source": [
    "with open(file='students.csv',encoding='utf-8') as file:\n",
    "    lines:list[str] = file.readlines()\n",
    "    print(lines)"
   ]
  },
  {
   "cell_type": "code",
   "execution_count": 11,
   "metadata": {},
   "outputs": [
    {
     "name": "stdout",
     "output_type": "stream",
     "text": [
      "['student20', '63', '82', '89', '77', '85']\n"
     ]
    }
   ],
   "source": [
    "import csv\n",
    "with open(file='students.csv',encoding='utf-8') as file:\n",
    "    reader = csv.reader(file)\n",
    "    next(reader)\n",
    "    students:list = list(reader)\n",
    "\n",
    "for student in students:\n",
    "    if student[0] == 'student20':\n",
    "        print(student)"
   ]
  },
  {
   "cell_type": "code",
   "execution_count": 12,
   "metadata": {},
   "outputs": [
    {
     "name": "stdout",
     "output_type": "stream",
     "text": [
      "{'name': 'student20', 'chinese': '63', 'english': '82', 'math': '89', 'history': '77', 'health': '85'}\n"
     ]
    }
   ],
   "source": [
    "import csv\n",
    "with open(file=\"students.csv\", encoding = \"utf-8\") as file:\n",
    "    reader = csv.DictReader(file)\n",
    "    students = list(reader)\n",
    "\n",
    "for student in students:\n",
    "    if student[\"name\"] == \"student20\":\n",
    "        print(student)"
   ]
  }
 ],
 "metadata": {
  "kernelspec": {
   "display_name": "Python 3",
   "language": "python",
   "name": "python3"
  },
  "language_info": {
   "codemirror_mode": {
    "name": "ipython",
    "version": 3
   },
   "file_extension": ".py",
   "mimetype": "text/x-python",
   "name": "python",
   "nbconvert_exporter": "python",
   "pygments_lexer": "ipython3",
   "version": "3.12.8"
  }
 },
 "nbformat": 4,
 "nbformat_minor": 2
}
