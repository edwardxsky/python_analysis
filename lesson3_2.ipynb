{
 "cells": [
  {
   "cell_type": "code",
   "execution_count": 9,
   "metadata": {},
   "outputs": [
    {
     "data": {
      "text/plain": [
       "{'name': 'Edward', 'age': 29, 'city': 'Taipei'}"
      ]
     },
     "execution_count": 9,
     "metadata": {},
     "output_type": "execute_result"
    }
   ],
   "source": [
    "# 字典\n",
    "{'name':'Edward', 'age':29, 'city':'Taipei'}\n"
   ]
  },
  {
   "cell_type": "code",
   "execution_count": 8,
   "metadata": {},
   "outputs": [
    {
     "data": {
      "text/plain": [
       "{'name': 'Edward', 'age': 29, 'city': 'Taipei'}"
      ]
     },
     "execution_count": 8,
     "metadata": {},
     "output_type": "execute_result"
    }
   ],
   "source": [
    "{'name':'Edward',\n",
    " 'age':29,\n",
    " 'city':'Taipei'}"
   ]
  },
  {
   "cell_type": "code",
   "execution_count": 14,
   "metadata": {},
   "outputs": [
    {
     "data": {
      "text/plain": [
       "{'name': 'Edward', 'age': 29, 'city': 'Taipei'}"
      ]
     },
     "execution_count": 14,
     "metadata": {},
     "output_type": "execute_result"
    }
   ],
   "source": [
    "p1 = {'name':'Edward',\n",
    "      'age':29,\n",
    "      'city':'Taipei'}\n",
    "p1"
   ]
  },
  {
   "cell_type": "code",
   "execution_count": 13,
   "metadata": {},
   "outputs": [
    {
     "data": {
      "text/plain": [
       "{'name': 'Edward', 'age': 29, 'city': 'Taipei'}"
      ]
     },
     "execution_count": 13,
     "metadata": {},
     "output_type": "execute_result"
    }
   ],
   "source": [
    "p2 = {\"name\": \"Edward\",\n",
    "      \"age\":29,\n",
    "      \"city\":\"Taipei\"}\n",
    "p2"
   ]
  },
  {
   "cell_type": "code",
   "execution_count": 10,
   "metadata": {},
   "outputs": [
    {
     "name": "stdout",
     "output_type": "stream",
     "text": [
      "Edward\n",
      "29\n"
     ]
    }
   ],
   "source": [
    "# 存取值\n",
    "print(p1['name'])  # 使用鍵取值\n",
    "print(p1.get('age'))  # 使用 get() 方法取值\n"
   ]
  },
  {
   "cell_type": "code",
   "execution_count": 11,
   "metadata": {},
   "outputs": [
    {
     "data": {
      "text/plain": [
       "29"
      ]
     },
     "execution_count": 11,
     "metadata": {},
     "output_type": "execute_result"
    }
   ],
   "source": [
    "# 刪除項目\n",
    "del p1['city'] # 使用 del 關鍵字\n",
    "p1.pop('age')  # 使用 pop() 方法\n"
   ]
  },
  {
   "cell_type": "code",
   "execution_count": 12,
   "metadata": {},
   "outputs": [
    {
     "data": {
      "text/plain": [
       "{'name': 'Edward'}"
      ]
     },
     "execution_count": 12,
     "metadata": {},
     "output_type": "execute_result"
    }
   ],
   "source": [
    "p1"
   ]
  },
  {
   "cell_type": "code",
   "execution_count": 15,
   "metadata": {},
   "outputs": [],
   "source": [
    "del p1"
   ]
  },
  {
   "cell_type": "code",
   "execution_count": 16,
   "metadata": {},
   "outputs": [
    {
     "ename": "NameError",
     "evalue": "name 'p1' is not defined",
     "output_type": "error",
     "traceback": [
      "\u001b[0;31m---------------------------------------------------------------------------\u001b[0m",
      "\u001b[0;31mNameError\u001b[0m                                 Traceback (most recent call last)",
      "Cell \u001b[0;32mIn[16], line 1\u001b[0m\n\u001b[0;32m----> 1\u001b[0m \u001b[43mp1\u001b[49m\n",
      "\u001b[0;31mNameError\u001b[0m: name 'p1' is not defined"
     ]
    }
   ],
   "source": [
    "p1"
   ]
  },
  {
   "cell_type": "markdown",
   "metadata": {},
   "source": [
    "- 如何依順序取出`串列資料`和`映射資料`的元素值\n",
    "- for_in 迴圈"
   ]
  },
  {
   "cell_type": "code",
   "execution_count": 17,
   "metadata": {},
   "outputs": [
    {
     "name": "stdout",
     "output_type": "stream",
     "text": [
      "蘋果\n",
      "香蕉\n",
      "橘子\n"
     ]
    }
   ],
   "source": [
    "# 基本遍歷\n",
    "fruits = [\"蘋果\", \"香蕉\", \"橘子\"]\n",
    "for fruit in fruits:\n",
    "    print(fruit)"
   ]
  },
  {
   "cell_type": "code",
   "execution_count": 18,
   "metadata": {},
   "outputs": [
    {
     "name": "stdout",
     "output_type": "stream",
     "text": [
      "(0, '蘋果')\n",
      "(1, '香蕉')\n",
      "(2, '橘子')\n"
     ]
    }
   ],
   "source": [
    "# 使用 enumerate() 取得索引和值 \n",
    "for fruit in enumerate(fruits):\n",
    "    print(fruit) # 出來是 tuple 型式"
   ]
  },
  {
   "cell_type": "code",
   "execution_count": 20,
   "metadata": {},
   "outputs": [
    {
     "name": "stdout",
     "output_type": "stream",
     "text": [
      "0->蘋果\n",
      "================\n",
      "1->香蕉\n",
      "================\n",
      "2->橘子\n",
      "================\n"
     ]
    }
   ],
   "source": [
    "for index, fruit in enumerate(fruits):\n",
    "    print(index, fruit, sep='->')\n",
    "    print(\"================\");"
   ]
  },
  {
   "cell_type": "code",
   "execution_count": 21,
   "metadata": {},
   "outputs": [
    {
     "name": "stdout",
     "output_type": "stream",
     "text": [
      "Taipei: 台北\n",
      "Kaohsiung: 高雄\n",
      "Taichung: 台中\n",
      "Tainan: 台南\n",
      "Hsinchu: 新竹\n",
      "Keelung: 基隆\n",
      "Chiayi: 嘉義\n",
      "Changhua: 彰化\n",
      "Pingtung: 屏東\n",
      "Yilan: 宜蘭\n"
     ]
    }
   ],
   "source": [
    "cities = {\n",
    "    \"Taipei\": \"台北\",\n",
    "    \"Kaohsiung\": \"高雄\",\n",
    "    \"Taichung\": \"台中\",\n",
    "    \"Tainan\": \"台南\",\n",
    "    \"Hsinchu\": \"新竹\",\n",
    "    \"Keelung\": \"基隆\",\n",
    "    \"Chiayi\": \"嘉義\",\n",
    "    \"Changhua\": \"彰化\",\n",
    "    \"Pingtung\": \"屏東\",\n",
    "    \"Yilan\": \"宜蘭\"\n",
    "}\n",
    "\n",
    "for key, value in cities.items():\n",
    "    print(f\"{key}: {value}\") # 字串插補\n"
   ]
  },
  {
   "cell_type": "code",
   "execution_count": 29,
   "metadata": {},
   "outputs": [],
   "source": [
    "# 一個學生 (student) 的 dictionary, 格式如下:\n",
    "# {'name':'value', 'chinese':78, 'english':98, 'math':67, 'history':87, 'health':76}\n",
    "# 請使用list幫我建立50個學生\n",
    "import random\n",
    "\n",
    "students = []\n",
    "\n",
    "# students.append({'name': 'Student1', 'chinese': random.randint(60, 100), 'english': random.randint(60, 100), 'math': random.randint(60, 100), 'history': random.randint(60, 100), 'health': random.randint(60, 100)})\n",
    "\n"
   ]
  },
  {
   "cell_type": "code",
   "execution_count": 24,
   "metadata": {
    "vscode": {
     "languageId": "groovy"
    }
   },
   "outputs": [
    {
     "data": {
      "text/plain": [
       "[{'name': 'Student1',\n",
       "  'chinese': 84,\n",
       "  'english': 91,\n",
       "  'math': 73,\n",
       "  'history': 71,\n",
       "  'health': 91},\n",
       " {'name': 'Student2',\n",
       "  'chinese': 74,\n",
       "  'english': 72,\n",
       "  'math': 83,\n",
       "  'history': 78,\n",
       "  'health': 85},\n",
       " {'name': 'Student3',\n",
       "  'chinese': 83,\n",
       "  'english': 99,\n",
       "  'math': 64,\n",
       "  'history': 96,\n",
       "  'health': 71},\n",
       " {'name': 'Student4',\n",
       "  'chinese': 82,\n",
       "  'english': 98,\n",
       "  'math': 98,\n",
       "  'history': 61,\n",
       "  'health': 75},\n",
       " {'name': 'Student5',\n",
       "  'chinese': 77,\n",
       "  'english': 74,\n",
       "  'math': 100,\n",
       "  'history': 97,\n",
       "  'health': 77},\n",
       " {'name': 'Student6',\n",
       "  'chinese': 67,\n",
       "  'english': 80,\n",
       "  'math': 84,\n",
       "  'history': 70,\n",
       "  'health': 89},\n",
       " {'name': 'Student7',\n",
       "  'chinese': 64,\n",
       "  'english': 74,\n",
       "  'math': 61,\n",
       "  'history': 80,\n",
       "  'health': 68},\n",
       " {'name': 'Student8',\n",
       "  'chinese': 77,\n",
       "  'english': 95,\n",
       "  'math': 78,\n",
       "  'history': 66,\n",
       "  'health': 74},\n",
       " {'name': 'Student9',\n",
       "  'chinese': 64,\n",
       "  'english': 84,\n",
       "  'math': 75,\n",
       "  'history': 100,\n",
       "  'health': 85},\n",
       " {'name': 'Student10',\n",
       "  'chinese': 82,\n",
       "  'english': 74,\n",
       "  'math': 98,\n",
       "  'history': 64,\n",
       "  'health': 80},\n",
       " {'name': 'Student11',\n",
       "  'chinese': 76,\n",
       "  'english': 70,\n",
       "  'math': 92,\n",
       "  'history': 83,\n",
       "  'health': 71},\n",
       " {'name': 'Student12',\n",
       "  'chinese': 95,\n",
       "  'english': 61,\n",
       "  'math': 98,\n",
       "  'history': 93,\n",
       "  'health': 61},\n",
       " {'name': 'Student13',\n",
       "  'chinese': 90,\n",
       "  'english': 95,\n",
       "  'math': 67,\n",
       "  'history': 86,\n",
       "  'health': 65},\n",
       " {'name': 'Student14',\n",
       "  'chinese': 64,\n",
       "  'english': 81,\n",
       "  'math': 85,\n",
       "  'history': 61,\n",
       "  'health': 60},\n",
       " {'name': 'Student15',\n",
       "  'chinese': 75,\n",
       "  'english': 68,\n",
       "  'math': 91,\n",
       "  'history': 84,\n",
       "  'health': 79},\n",
       " {'name': 'Student16',\n",
       "  'chinese': 64,\n",
       "  'english': 84,\n",
       "  'math': 68,\n",
       "  'history': 74,\n",
       "  'health': 96},\n",
       " {'name': 'Student17',\n",
       "  'chinese': 96,\n",
       "  'english': 63,\n",
       "  'math': 90,\n",
       "  'history': 99,\n",
       "  'health': 81},\n",
       " {'name': 'Student18',\n",
       "  'chinese': 74,\n",
       "  'english': 85,\n",
       "  'math': 80,\n",
       "  'history': 60,\n",
       "  'health': 76},\n",
       " {'name': 'Student19',\n",
       "  'chinese': 70,\n",
       "  'english': 76,\n",
       "  'math': 60,\n",
       "  'history': 92,\n",
       "  'health': 92},\n",
       " {'name': 'Student20',\n",
       "  'chinese': 68,\n",
       "  'english': 81,\n",
       "  'math': 90,\n",
       "  'history': 71,\n",
       "  'health': 86},\n",
       " {'name': 'Student21',\n",
       "  'chinese': 74,\n",
       "  'english': 73,\n",
       "  'math': 99,\n",
       "  'history': 74,\n",
       "  'health': 81},\n",
       " {'name': 'Student22',\n",
       "  'chinese': 65,\n",
       "  'english': 63,\n",
       "  'math': 92,\n",
       "  'history': 89,\n",
       "  'health': 76},\n",
       " {'name': 'Student23',\n",
       "  'chinese': 89,\n",
       "  'english': 65,\n",
       "  'math': 62,\n",
       "  'history': 60,\n",
       "  'health': 74},\n",
       " {'name': 'Student24',\n",
       "  'chinese': 69,\n",
       "  'english': 67,\n",
       "  'math': 93,\n",
       "  'history': 90,\n",
       "  'health': 90},\n",
       " {'name': 'Student25',\n",
       "  'chinese': 93,\n",
       "  'english': 97,\n",
       "  'math': 93,\n",
       "  'history': 80,\n",
       "  'health': 76},\n",
       " {'name': 'Student26',\n",
       "  'chinese': 92,\n",
       "  'english': 81,\n",
       "  'math': 89,\n",
       "  'history': 90,\n",
       "  'health': 93},\n",
       " {'name': 'Student27',\n",
       "  'chinese': 87,\n",
       "  'english': 91,\n",
       "  'math': 95,\n",
       "  'history': 70,\n",
       "  'health': 74},\n",
       " {'name': 'Student28',\n",
       "  'chinese': 61,\n",
       "  'english': 83,\n",
       "  'math': 73,\n",
       "  'history': 85,\n",
       "  'health': 73},\n",
       " {'name': 'Student29',\n",
       "  'chinese': 94,\n",
       "  'english': 100,\n",
       "  'math': 94,\n",
       "  'history': 67,\n",
       "  'health': 100},\n",
       " {'name': 'Student30',\n",
       "  'chinese': 86,\n",
       "  'english': 92,\n",
       "  'math': 60,\n",
       "  'history': 63,\n",
       "  'health': 92},\n",
       " {'name': 'Student31',\n",
       "  'chinese': 64,\n",
       "  'english': 88,\n",
       "  'math': 67,\n",
       "  'history': 60,\n",
       "  'health': 62},\n",
       " {'name': 'Student32',\n",
       "  'chinese': 75,\n",
       "  'english': 72,\n",
       "  'math': 76,\n",
       "  'history': 62,\n",
       "  'health': 75},\n",
       " {'name': 'Student33',\n",
       "  'chinese': 87,\n",
       "  'english': 93,\n",
       "  'math': 85,\n",
       "  'history': 87,\n",
       "  'health': 76},\n",
       " {'name': 'Student34',\n",
       "  'chinese': 62,\n",
       "  'english': 95,\n",
       "  'math': 64,\n",
       "  'history': 81,\n",
       "  'health': 67},\n",
       " {'name': 'Student35',\n",
       "  'chinese': 68,\n",
       "  'english': 64,\n",
       "  'math': 82,\n",
       "  'history': 73,\n",
       "  'health': 63},\n",
       " {'name': 'Student36',\n",
       "  'chinese': 80,\n",
       "  'english': 93,\n",
       "  'math': 73,\n",
       "  'history': 100,\n",
       "  'health': 66},\n",
       " {'name': 'Student37',\n",
       "  'chinese': 71,\n",
       "  'english': 70,\n",
       "  'math': 66,\n",
       "  'history': 73,\n",
       "  'health': 84},\n",
       " {'name': 'Student38',\n",
       "  'chinese': 74,\n",
       "  'english': 84,\n",
       "  'math': 62,\n",
       "  'history': 69,\n",
       "  'health': 79},\n",
       " {'name': 'Student39',\n",
       "  'chinese': 95,\n",
       "  'english': 75,\n",
       "  'math': 87,\n",
       "  'history': 67,\n",
       "  'health': 97},\n",
       " {'name': 'Student40',\n",
       "  'chinese': 85,\n",
       "  'english': 72,\n",
       "  'math': 61,\n",
       "  'history': 90,\n",
       "  'health': 77},\n",
       " {'name': 'Student41',\n",
       "  'chinese': 95,\n",
       "  'english': 93,\n",
       "  'math': 67,\n",
       "  'history': 98,\n",
       "  'health': 65},\n",
       " {'name': 'Student42',\n",
       "  'chinese': 97,\n",
       "  'english': 95,\n",
       "  'math': 78,\n",
       "  'history': 60,\n",
       "  'health': 72},\n",
       " {'name': 'Student43',\n",
       "  'chinese': 83,\n",
       "  'english': 60,\n",
       "  'math': 74,\n",
       "  'history': 79,\n",
       "  'health': 79},\n",
       " {'name': 'Student44',\n",
       "  'chinese': 81,\n",
       "  'english': 74,\n",
       "  'math': 96,\n",
       "  'history': 87,\n",
       "  'health': 74},\n",
       " {'name': 'Student45',\n",
       "  'chinese': 92,\n",
       "  'english': 70,\n",
       "  'math': 84,\n",
       "  'history': 79,\n",
       "  'health': 67},\n",
       " {'name': 'Student46',\n",
       "  'chinese': 89,\n",
       "  'english': 100,\n",
       "  'math': 83,\n",
       "  'history': 60,\n",
       "  'health': 76},\n",
       " {'name': 'Student47',\n",
       "  'chinese': 86,\n",
       "  'english': 81,\n",
       "  'math': 84,\n",
       "  'history': 87,\n",
       "  'health': 71},\n",
       " {'name': 'Student48',\n",
       "  'chinese': 84,\n",
       "  'english': 98,\n",
       "  'math': 68,\n",
       "  'history': 66,\n",
       "  'health': 69},\n",
       " {'name': 'Student49',\n",
       "  'chinese': 66,\n",
       "  'english': 65,\n",
       "  'math': 77,\n",
       "  'history': 73,\n",
       "  'health': 61},\n",
       " {'name': 'Student50',\n",
       "  'chinese': 86,\n",
       "  'english': 67,\n",
       "  'math': 71,\n",
       "  'history': 91,\n",
       "  'health': 61}]"
      ]
     },
     "execution_count": 24,
     "metadata": {},
     "output_type": "execute_result"
    }
   ],
   "source": [
    "# 一個學生 (student) 的 dictionary, 格式如下:\n",
    "# {'name':'value', 'chinese':78, 'english':98, 'math':67, 'history':87, 'health':76}\n",
    "# 請使用list幫我建立50個學生\n",
    "\n",
    "import random\n",
    "\n",
    "students = []\n",
    "\n",
    "for i in range(50):\n",
    "    student = {\n",
    "        'name': f'Student{i+1}',\n",
    "        'chinese': random.randint(60, 100),\n",
    "        'english': random.randint(60, 100),\n",
    "        'math': random.randint(60, 100),\n",
    "        'history': random.randint(60, 100),\n",
    "        'health': random.randint(60, 100)\n",
    "    }\n",
    "    students.append(student)\n",
    "\n",
    "students"
   ]
  },
  {
   "cell_type": "code",
   "execution_count": 39,
   "metadata": {},
   "outputs": [
    {
     "data": {
      "text/plain": [
       "list"
      ]
     },
     "execution_count": 39,
     "metadata": {},
     "output_type": "execute_result"
    }
   ],
   "source": [
    "students = []\n",
    "for i in range(1, 51):\n",
    "    students.append(\n",
    "        {\n",
    "            'name':f'student{i}',\n",
    "            #'chinese':50,\n",
    "            \"chinese\":random.randint(50,100),\n",
    "            'english':random.randint(50,100),\n",
    "            'math':random.randint(50,100),\n",
    "            'history':random.randint(50,100),\n",
    "            'health':random.randint(50,100)\n",
    "        }\n",
    "    )\n",
    "\n",
    "type(students)"
   ]
  },
  {
   "cell_type": "code",
   "execution_count": 43,
   "metadata": {},
   "outputs": [
    {
     "name": "stdout",
     "output_type": "stream",
     "text": [
      "{'name': 'student1', 'chinese': 70, 'english': 79, 'math': 80, 'history': 62, 'health': 55}\n",
      "{'name': 'student2', 'chinese': 90, 'english': 75, 'math': 65, 'history': 87, 'health': 91}\n",
      "{'name': 'student3', 'chinese': 87, 'english': 96, 'math': 82, 'history': 94, 'health': 88}\n",
      "{'name': 'student4', 'chinese': 89, 'english': 69, 'math': 57, 'history': 91, 'health': 61}\n",
      "{'name': 'student5', 'chinese': 50, 'english': 64, 'math': 61, 'history': 75, 'health': 57}\n",
      "{'name': 'student6', 'chinese': 68, 'english': 89, 'math': 53, 'history': 87, 'health': 67}\n",
      "{'name': 'student7', 'chinese': 85, 'english': 94, 'math': 77, 'history': 96, 'health': 63}\n",
      "{'name': 'student8', 'chinese': 75, 'english': 60, 'math': 71, 'history': 92, 'health': 75}\n",
      "{'name': 'student9', 'chinese': 85, 'english': 74, 'math': 94, 'history': 98, 'health': 76}\n",
      "{'name': 'student10', 'chinese': 80, 'english': 89, 'math': 71, 'history': 69, 'health': 89}\n",
      "{'name': 'student11', 'chinese': 81, 'english': 70, 'math': 51, 'history': 71, 'health': 98}\n",
      "{'name': 'student12', 'chinese': 84, 'english': 100, 'math': 68, 'history': 64, 'health': 81}\n",
      "{'name': 'student13', 'chinese': 89, 'english': 81, 'math': 65, 'history': 99, 'health': 78}\n",
      "{'name': 'student14', 'chinese': 92, 'english': 78, 'math': 95, 'history': 92, 'health': 89}\n",
      "{'name': 'student15', 'chinese': 87, 'english': 55, 'math': 58, 'history': 59, 'health': 89}\n",
      "{'name': 'student16', 'chinese': 73, 'english': 58, 'math': 60, 'history': 62, 'health': 91}\n",
      "{'name': 'student17', 'chinese': 99, 'english': 76, 'math': 85, 'history': 78, 'health': 52}\n",
      "{'name': 'student18', 'chinese': 89, 'english': 55, 'math': 63, 'history': 96, 'health': 54}\n",
      "{'name': 'student19', 'chinese': 55, 'english': 60, 'math': 69, 'history': 61, 'health': 86}\n",
      "{'name': 'student20', 'chinese': 73, 'english': 83, 'math': 91, 'history': 64, 'health': 81}\n",
      "{'name': 'student21', 'chinese': 94, 'english': 72, 'math': 91, 'history': 61, 'health': 98}\n",
      "{'name': 'student22', 'chinese': 67, 'english': 91, 'math': 64, 'history': 69, 'health': 100}\n",
      "{'name': 'student23', 'chinese': 62, 'english': 96, 'math': 69, 'history': 96, 'health': 78}\n",
      "{'name': 'student24', 'chinese': 93, 'english': 59, 'math': 58, 'history': 88, 'health': 62}\n",
      "{'name': 'student25', 'chinese': 91, 'english': 81, 'math': 66, 'history': 72, 'health': 65}\n",
      "{'name': 'student26', 'chinese': 68, 'english': 50, 'math': 86, 'history': 96, 'health': 83}\n",
      "{'name': 'student27', 'chinese': 61, 'english': 78, 'math': 60, 'history': 73, 'health': 80}\n",
      "{'name': 'student28', 'chinese': 65, 'english': 91, 'math': 51, 'history': 64, 'health': 99}\n",
      "{'name': 'student29', 'chinese': 62, 'english': 54, 'math': 65, 'history': 80, 'health': 63}\n",
      "{'name': 'student30', 'chinese': 83, 'english': 51, 'math': 99, 'history': 71, 'health': 68}\n",
      "{'name': 'student31', 'chinese': 82, 'english': 77, 'math': 67, 'history': 78, 'health': 100}\n",
      "{'name': 'student32', 'chinese': 67, 'english': 68, 'math': 96, 'history': 75, 'health': 64}\n",
      "{'name': 'student33', 'chinese': 63, 'english': 83, 'math': 71, 'history': 80, 'health': 98}\n",
      "{'name': 'student34', 'chinese': 91, 'english': 78, 'math': 57, 'history': 62, 'health': 91}\n",
      "{'name': 'student35', 'chinese': 61, 'english': 78, 'math': 95, 'history': 54, 'health': 87}\n",
      "{'name': 'student36', 'chinese': 81, 'english': 56, 'math': 92, 'history': 74, 'health': 78}\n",
      "{'name': 'student37', 'chinese': 84, 'english': 66, 'math': 83, 'history': 81, 'health': 99}\n",
      "{'name': 'student38', 'chinese': 61, 'english': 80, 'math': 77, 'history': 76, 'health': 84}\n",
      "{'name': 'student39', 'chinese': 59, 'english': 95, 'math': 56, 'history': 77, 'health': 51}\n",
      "{'name': 'student40', 'chinese': 70, 'english': 94, 'math': 85, 'history': 80, 'health': 83}\n",
      "{'name': 'student41', 'chinese': 70, 'english': 53, 'math': 70, 'history': 68, 'health': 77}\n",
      "{'name': 'student42', 'chinese': 52, 'english': 82, 'math': 57, 'history': 85, 'health': 82}\n",
      "{'name': 'student43', 'chinese': 68, 'english': 77, 'math': 96, 'history': 54, 'health': 88}\n",
      "{'name': 'student44', 'chinese': 55, 'english': 78, 'math': 64, 'history': 68, 'health': 51}\n",
      "{'name': 'student45', 'chinese': 85, 'english': 77, 'math': 94, 'history': 76, 'health': 99}\n",
      "{'name': 'student46', 'chinese': 83, 'english': 95, 'math': 88, 'history': 50, 'health': 69}\n",
      "{'name': 'student47', 'chinese': 76, 'english': 85, 'math': 88, 'history': 76, 'health': 82}\n",
      "{'name': 'student48', 'chinese': 81, 'english': 97, 'math': 51, 'history': 57, 'health': 67}\n",
      "{'name': 'student49', 'chinese': 100, 'english': 87, 'math': 75, 'history': 88, 'health': 52}\n",
      "{'name': 'student50', 'chinese': 69, 'english': 81, 'math': 51, 'history': 75, 'health': 76}\n"
     ]
    }
   ],
   "source": [
    "for scores in students:\n",
    "    print(scores)"
   ]
  },
  {
   "cell_type": "code",
   "execution_count": 49,
   "metadata": {},
   "outputs": [
    {
     "name": "stdout",
     "output_type": "stream",
     "text": [
      "姓名:student1, 國文:70, 英文:79, 數學:80, 歷史:62, 健康:55\n",
      "姓名:student2, 國文:90, 英文:75, 數學:65, 歷史:87, 健康:91\n",
      "姓名:student3, 國文:87, 英文:96, 數學:82, 歷史:94, 健康:88\n",
      "姓名:student4, 國文:89, 英文:69, 數學:57, 歷史:91, 健康:61\n",
      "姓名:student5, 國文:50, 英文:64, 數學:61, 歷史:75, 健康:57\n",
      "姓名:student6, 國文:68, 英文:89, 數學:53, 歷史:87, 健康:67\n",
      "姓名:student7, 國文:85, 英文:94, 數學:77, 歷史:96, 健康:63\n",
      "姓名:student8, 國文:75, 英文:60, 數學:71, 歷史:92, 健康:75\n",
      "姓名:student9, 國文:85, 英文:74, 數學:94, 歷史:98, 健康:76\n",
      "姓名:student10, 國文:80, 英文:89, 數學:71, 歷史:69, 健康:89\n",
      "姓名:student11, 國文:81, 英文:70, 數學:51, 歷史:71, 健康:98\n",
      "姓名:student12, 國文:84, 英文:100, 數學:68, 歷史:64, 健康:81\n",
      "姓名:student13, 國文:89, 英文:81, 數學:65, 歷史:99, 健康:78\n",
      "姓名:student14, 國文:92, 英文:78, 數學:95, 歷史:92, 健康:89\n",
      "姓名:student15, 國文:87, 英文:55, 數學:58, 歷史:59, 健康:89\n",
      "姓名:student16, 國文:73, 英文:58, 數學:60, 歷史:62, 健康:91\n",
      "姓名:student17, 國文:99, 英文:76, 數學:85, 歷史:78, 健康:52\n",
      "姓名:student18, 國文:89, 英文:55, 數學:63, 歷史:96, 健康:54\n",
      "姓名:student19, 國文:55, 英文:60, 數學:69, 歷史:61, 健康:86\n",
      "姓名:student20, 國文:73, 英文:83, 數學:91, 歷史:64, 健康:81\n",
      "姓名:student21, 國文:94, 英文:72, 數學:91, 歷史:61, 健康:98\n",
      "姓名:student22, 國文:67, 英文:91, 數學:64, 歷史:69, 健康:100\n",
      "姓名:student23, 國文:62, 英文:96, 數學:69, 歷史:96, 健康:78\n",
      "姓名:student24, 國文:93, 英文:59, 數學:58, 歷史:88, 健康:62\n",
      "姓名:student25, 國文:91, 英文:81, 數學:66, 歷史:72, 健康:65\n",
      "姓名:student26, 國文:68, 英文:50, 數學:86, 歷史:96, 健康:83\n",
      "姓名:student27, 國文:61, 英文:78, 數學:60, 歷史:73, 健康:80\n",
      "姓名:student28, 國文:65, 英文:91, 數學:51, 歷史:64, 健康:99\n",
      "姓名:student29, 國文:62, 英文:54, 數學:65, 歷史:80, 健康:63\n",
      "姓名:student30, 國文:83, 英文:51, 數學:99, 歷史:71, 健康:68\n",
      "姓名:student31, 國文:82, 英文:77, 數學:67, 歷史:78, 健康:100\n",
      "姓名:student32, 國文:67, 英文:68, 數學:96, 歷史:75, 健康:64\n",
      "姓名:student33, 國文:63, 英文:83, 數學:71, 歷史:80, 健康:98\n",
      "姓名:student34, 國文:91, 英文:78, 數學:57, 歷史:62, 健康:91\n",
      "姓名:student35, 國文:61, 英文:78, 數學:95, 歷史:54, 健康:87\n",
      "姓名:student36, 國文:81, 英文:56, 數學:92, 歷史:74, 健康:78\n",
      "姓名:student37, 國文:84, 英文:66, 數學:83, 歷史:81, 健康:99\n",
      "姓名:student38, 國文:61, 英文:80, 數學:77, 歷史:76, 健康:84\n",
      "姓名:student39, 國文:59, 英文:95, 數學:56, 歷史:77, 健康:51\n",
      "姓名:student40, 國文:70, 英文:94, 數學:85, 歷史:80, 健康:83\n",
      "姓名:student41, 國文:70, 英文:53, 數學:70, 歷史:68, 健康:77\n",
      "姓名:student42, 國文:52, 英文:82, 數學:57, 歷史:85, 健康:82\n",
      "姓名:student43, 國文:68, 英文:77, 數學:96, 歷史:54, 健康:88\n",
      "姓名:student44, 國文:55, 英文:78, 數學:64, 歷史:68, 健康:51\n",
      "姓名:student45, 國文:85, 英文:77, 數學:94, 歷史:76, 健康:99\n",
      "姓名:student46, 國文:83, 英文:95, 數學:88, 歷史:50, 健康:69\n",
      "姓名:student47, 國文:76, 英文:85, 數學:88, 歷史:76, 健康:82\n",
      "姓名:student48, 國文:81, 英文:97, 數學:51, 歷史:57, 健康:67\n",
      "姓名:student49, 國文:100, 英文:87, 數學:75, 歷史:88, 健康:52\n",
      "姓名:student50, 國文:69, 英文:81, 數學:51, 歷史:75, 健康:76\n"
     ]
    },
    {
     "data": {
      "text/plain": [
       "str"
      ]
     },
     "execution_count": 49,
     "metadata": {},
     "output_type": "execute_result"
    }
   ],
   "source": [
    "# 將 students 列表轉換成字串\n",
    "students_str = '\\n'.join([\n",
    "    f\"姓名:{student['name']}, \"\n",
    "    f\"國文:{student['chinese']}, \"\n",
    "    f\"英文:{student['english']}, \"\n",
    "    f\"數學:{student['math']}, \"\n",
    "    f\"歷史:{student['history']}, \"\n",
    "    f\"健康:{student['health']}\"\n",
    "    for student in students\n",
    "])\n",
    "\n",
    "print(students_str)\n",
    "type(students_str)"
   ]
  },
  {
   "cell_type": "code",
   "execution_count": 51,
   "metadata": {},
   "outputs": [],
   "source": [
    "# 將字串轉存為 txt\n",
    "\n",
    "print(students_str, file = open('Students.txt', mode='w', encoding='utf-8'))"
   ]
  }
 ],
 "metadata": {
  "kernelspec": {
   "display_name": "base",
   "language": "python",
   "name": "python3"
  },
  "language_info": {
   "codemirror_mode": {
    "name": "ipython",
    "version": 3
   },
   "file_extension": ".py",
   "mimetype": "text/x-python",
   "name": "python",
   "nbconvert_exporter": "python",
   "pygments_lexer": "ipython3",
   "version": "3.12.2"
  }
 },
 "nbformat": 4,
 "nbformat_minor": 2
}
