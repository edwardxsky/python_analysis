{
 "cells": [
  {
   "cell_type": "code",
   "execution_count": 9,
   "metadata": {},
   "outputs": [
    {
     "data": {
      "text/plain": [
       "{'name': 'Edward', 'age': 29, 'city': 'Taipei'}"
      ]
     },
     "execution_count": 9,
     "metadata": {},
     "output_type": "execute_result"
    }
   ],
   "source": [
    "# 字典\n",
    "{'name':'Edward', 'age':29, 'city':'Taipei'}\n"
   ]
  },
  {
   "cell_type": "code",
   "execution_count": 8,
   "metadata": {},
   "outputs": [
    {
     "data": {
      "text/plain": [
       "{'name': 'Edward', 'age': 29, 'city': 'Taipei'}"
      ]
     },
     "execution_count": 8,
     "metadata": {},
     "output_type": "execute_result"
    }
   ],
   "source": [
    "{'name':'Edward',\n",
    " 'age':29,\n",
    " 'city':'Taipei'}"
   ]
  },
  {
   "cell_type": "code",
   "execution_count": 14,
   "metadata": {},
   "outputs": [
    {
     "data": {
      "text/plain": [
       "{'name': 'Edward', 'age': 29, 'city': 'Taipei'}"
      ]
     },
     "execution_count": 14,
     "metadata": {},
     "output_type": "execute_result"
    }
   ],
   "source": [
    "p1 = {'name':'Edward',\n",
    "      'age':29,\n",
    "      'city':'Taipei'}\n",
    "p1"
   ]
  },
  {
   "cell_type": "code",
   "execution_count": 13,
   "metadata": {},
   "outputs": [
    {
     "data": {
      "text/plain": [
       "{'name': 'Edward', 'age': 29, 'city': 'Taipei'}"
      ]
     },
     "execution_count": 13,
     "metadata": {},
     "output_type": "execute_result"
    }
   ],
   "source": [
    "p2 = {\"name\": \"Edward\",\n",
    "      \"age\":29,\n",
    "      \"city\":\"Taipei\"}\n",
    "p2"
   ]
  },
  {
   "cell_type": "code",
   "execution_count": 10,
   "metadata": {},
   "outputs": [
    {
     "name": "stdout",
     "output_type": "stream",
     "text": [
      "Edward\n",
      "29\n"
     ]
    }
   ],
   "source": [
    "# 存取值\n",
    "print(p1['name'])  # 使用鍵取值\n",
    "print(p1.get('age'))  # 使用 get() 方法取值\n"
   ]
  },
  {
   "cell_type": "code",
   "execution_count": 11,
   "metadata": {},
   "outputs": [
    {
     "data": {
      "text/plain": [
       "29"
      ]
     },
     "execution_count": 11,
     "metadata": {},
     "output_type": "execute_result"
    }
   ],
   "source": [
    "# 刪除項目\n",
    "del p1['city'] # 使用 del 關鍵字\n",
    "p1.pop('age')  # 使用 pop() 方法\n"
   ]
  },
  {
   "cell_type": "code",
   "execution_count": 12,
   "metadata": {},
   "outputs": [
    {
     "data": {
      "text/plain": [
       "{'name': 'Edward'}"
      ]
     },
     "execution_count": 12,
     "metadata": {},
     "output_type": "execute_result"
    }
   ],
   "source": [
    "p1"
   ]
  },
  {
   "cell_type": "code",
   "execution_count": 15,
   "metadata": {},
   "outputs": [],
   "source": [
    "del p1"
   ]
  },
  {
   "cell_type": "code",
   "execution_count": 16,
   "metadata": {},
   "outputs": [
    {
     "ename": "NameError",
     "evalue": "name 'p1' is not defined",
     "output_type": "error",
     "traceback": [
      "\u001b[0;31m---------------------------------------------------------------------------\u001b[0m",
      "\u001b[0;31mNameError\u001b[0m                                 Traceback (most recent call last)",
      "Cell \u001b[0;32mIn[16], line 1\u001b[0m\n\u001b[0;32m----> 1\u001b[0m \u001b[43mp1\u001b[49m\n",
      "\u001b[0;31mNameError\u001b[0m: name 'p1' is not defined"
     ]
    }
   ],
   "source": [
    "p1"
   ]
  },
  {
   "cell_type": "markdown",
   "metadata": {},
   "source": [
    "- 如何依順序取出`串列資料`和`映射資料`的元素值\n",
    "- for_in 迴圈"
   ]
  },
  {
   "cell_type": "code",
   "execution_count": 17,
   "metadata": {},
   "outputs": [
    {
     "name": "stdout",
     "output_type": "stream",
     "text": [
      "蘋果\n",
      "香蕉\n",
      "橘子\n"
     ]
    }
   ],
   "source": [
    "# 基本遍歷\n",
    "fruits = [\"蘋果\", \"香蕉\", \"橘子\"]\n",
    "for fruit in fruits:\n",
    "    print(fruit)"
   ]
  },
  {
   "cell_type": "code",
   "execution_count": 18,
   "metadata": {},
   "outputs": [
    {
     "name": "stdout",
     "output_type": "stream",
     "text": [
      "(0, '蘋果')\n",
      "(1, '香蕉')\n",
      "(2, '橘子')\n"
     ]
    }
   ],
   "source": [
    "# 使用 enumerate() 取得索引和值 \n",
    "for fruit in enumerate(fruits):\n",
    "    print(fruit) # 出來是 tuple 型式"
   ]
  },
  {
   "cell_type": "code",
   "execution_count": 20,
   "metadata": {},
   "outputs": [
    {
     "name": "stdout",
     "output_type": "stream",
     "text": [
      "0->蘋果\n",
      "================\n",
      "1->香蕉\n",
      "================\n",
      "2->橘子\n",
      "================\n"
     ]
    }
   ],
   "source": [
    "for index, fruit in enumerate(fruits):\n",
    "    print(index, fruit, sep='->')\n",
    "    print(\"================\");"
   ]
  },
  {
   "cell_type": "code",
   "execution_count": 21,
   "metadata": {},
   "outputs": [
    {
     "name": "stdout",
     "output_type": "stream",
     "text": [
      "Taipei: 台北\n",
      "Kaohsiung: 高雄\n",
      "Taichung: 台中\n",
      "Tainan: 台南\n",
      "Hsinchu: 新竹\n",
      "Keelung: 基隆\n",
      "Chiayi: 嘉義\n",
      "Changhua: 彰化\n",
      "Pingtung: 屏東\n",
      "Yilan: 宜蘭\n"
     ]
    }
   ],
   "source": [
    "cities = {\n",
    "    \"Taipei\": \"台北\",\n",
    "    \"Kaohsiung\": \"高雄\",\n",
    "    \"Taichung\": \"台中\",\n",
    "    \"Tainan\": \"台南\",\n",
    "    \"Hsinchu\": \"新竹\",\n",
    "    \"Keelung\": \"基隆\",\n",
    "    \"Chiayi\": \"嘉義\",\n",
    "    \"Changhua\": \"彰化\",\n",
    "    \"Pingtung\": \"屏東\",\n",
    "    \"Yilan\": \"宜蘭\"\n",
    "}\n",
    "\n",
    "for key, value in cities.items():\n",
    "    print(f\"{key}: {value}\")\n"
   ]
  }
 ],
 "metadata": {
  "kernelspec": {
   "display_name": "base",
   "language": "python",
   "name": "python3"
  },
  "language_info": {
   "codemirror_mode": {
    "name": "ipython",
    "version": 3
   },
   "file_extension": ".py",
   "mimetype": "text/x-python",
   "name": "python",
   "nbconvert_exporter": "python",
   "pygments_lexer": "ipython3",
   "version": "3.12.2"
  }
 },
 "nbformat": 4,
 "nbformat_minor": 2
}
